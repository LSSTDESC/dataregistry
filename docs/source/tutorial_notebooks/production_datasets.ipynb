{
 "cells": [
  {
   "cell_type": "markdown",
   "id": "9337f001-5e7c-4141-a60c-5e99052aee3d",
   "metadata": {},
   "source": [
    "<img src=\"../_static/DREGS_logo_v2.png\" width=\"300\"/>\n",
    "\n",
    "# Registering production datasets\n",
    "\n",
    "Production datasets are treated slightly differently from the rest; they are registered into an independent schema, the data are stored in a separate production workspace, and the datasets, onced registered, cannot be overwritten. \n",
    "\n",
    "### What we cover in this tutorial\n",
    "\n",
    "In this tutorial we will learn how to:\n",
    "\n",
    "- Register a production dataset\n",
    "- Update a production dataset with a new version\n",
    "\n",
    "### Before we begin\n",
    "\n",
    "If you haven't done so already, check out the \"getting setup\" page from the docs if you want to run this tutorial interactively.\n",
    "\n",
    "A quick way to check everything is set up correctly is to run the first cell below, which should load the `dataregistry` package, and print the package version.\n",
    "\n",
    "\n",
    "\n"
   ]
  },
  {
   "cell_type": "code",
   "execution_count": null,
   "id": "7ead9b84-4933-4213-93cb-301d79ef1167",
   "metadata": {
    "tags": []
   },
   "outputs": [],
   "source": [
    "import dataregistry\n",
    "print(\"Working with dataregistry version:\", dataregistry.__version__)"
   ]
  },
  {
   "cell_type": "markdown",
   "id": "f48aec2e-2b35-49ed-be76-8818d9e79b2c",
   "metadata": {},
   "source": [
    "## The production schema\n",
    "\n",
    "Production datasets can only be registered into the 'production' schema. The layout of the production schema (i.e., the member tables and rows of those tables) is no different than the regular working schema.\n",
    "\n",
    "As we can only register datasets to the schema we initially declare, we need to make sure to set our `schema_version` to `production` when initiating the `DataRegistry` class, i.e.,"
   ]
  },
  {
   "cell_type": "code",
   "execution_count": null,
   "id": "86143f68",
   "metadata": {},
   "outputs": [],
   "source": [
    "from dataregistry import DataRegistry\n",
    "\n",
    "# Establish connection to database (using defaults)\n",
    "datareg = DataRegistry(schema_version=\"production\", owner_type=\"production\")"
   ]
  },
  {
   "cell_type": "markdown",
   "id": "cf1ed1e0",
   "metadata": {},
   "source": [
    "Note that the only value for `owner_type` allowed in the production schema is `\"production\"`, so we set it globally on initialization to save time. "
   ]
  },
  {
   "cell_type": "markdown",
   "id": "2d723a37-4101-496c-b385-0a2644aa7ad8",
   "metadata": {
    "tags": []
   },
   "source": [
    "## Registering a new production dataset\n",
    "\n",
    "Now that we have made our connection to the database we can register some datasets using the `Registrar` extension of the `DataRegistry` class."
   ]
  },
  {
   "cell_type": "code",
   "execution_count": null,
   "id": "7aaa5a7f-ccb1-47d3-9e9b-b62ad32287d7",
   "metadata": {
    "tags": []
   },
   "outputs": [],
   "source": [
    "# Create a empty text file\n",
    "with open(\"dummy_production_dataset.txt\", \"w\") as f:\n",
    "    f.write(\"some data\")\n",
    "\n",
    "# Add new entry.\n",
    "dataset_id = datareg.Registrar.register_dataset(\n",
    "    \"nersc_tutorial/my_desc_production_dataset\",\n",
    "    \"1.0.0\",\n",
    "    description=\"An output from some production DESC code\",\n",
    "    owner=\"DESC Working Group\",\n",
    "    old_location=\"dummy_production_dataset.txt\"\n",
    ")"
   ]
  },
  {
   "cell_type": "markdown",
   "id": "3b6b7862-fd31-43e6-9a50-572b5cd6fff5",
   "metadata": {},
   "source": [
    "## Updating a previously registered production dataset with a newer version\n",
    "\n",
    "As was previously pointed out, production datasets are always non-overwritable (setting `is_overwritable=True` will not work). Therefore to update a production dataset with a new version, it must be input as a new entry. However, like with the previous tutorial, we can link the new version with the previous version through the dataset `name`.\n",
    "\n",
    "As a reminder,"
   ]
  },
  {
   "cell_type": "code",
   "execution_count": null,
   "id": "88a01c97-a9f5-49b5-b8de-83712ac5f7f0",
   "metadata": {
    "tags": []
   },
   "outputs": [],
   "source": [
    "# Add new entry for an updated dataset with an updated version.\n",
    "dataset_id = datareg.Registrar.register_dataset(\n",
    "    \"nersc_tutorial/my_updated_desc_production_dataset\",\n",
    "    \"minor\", # Automatically bumps to \"1.1.0\"\n",
    "    description=\"An output from some production DESC code (updated)\",\n",
    "    old_location=\"dummy_production_dataset.txt\",\n",
    "    name=\"my_desc_production_dataset\" # Using this name links it to the previous dataset.\n",
    ")"
   ]
  },
  {
   "cell_type": "markdown",
   "id": "eb2d9797",
   "metadata": {},
   "source": [
    "Remember that the combination of `name`, `version` and `version_suffix` for any dataset must be unique."
   ]
  },
  {
   "cell_type": "markdown",
   "id": "3bf6d38e-ea5e-4916-aa5d-654b2587942d",
   "metadata": {},
   "source": [
    "## Querying production data, and linking to them as dependencies\n",
    "\n",
    "To do"
   ]
  },
  {
   "cell_type": "code",
   "execution_count": null,
   "id": "75eb4632-f6fc-42cd-83ed-8ca69cf7a4d9",
   "metadata": {},
   "outputs": [],
   "source": []
  }
 ],
 "metadata": {
  "kernelspec": {
   "display_name": "Python 3 (ipykernel)",
   "language": "python",
   "name": "python3"
  },
  "language_info": {
   "codemirror_mode": {
    "name": "ipython",
    "version": 3
   },
   "file_extension": ".py",
   "mimetype": "text/x-python",
   "name": "python",
   "nbconvert_exporter": "python",
   "pygments_lexer": "ipython3",
   "version": "3.9.12"
  }
 },
 "nbformat": 4,
 "nbformat_minor": 5
}
