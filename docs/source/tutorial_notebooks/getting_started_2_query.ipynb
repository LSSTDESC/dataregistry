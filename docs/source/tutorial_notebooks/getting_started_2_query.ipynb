{
 "cells": [
  {
   "cell_type": "markdown",
   "id": "9337f001-5e7c-4141-a60c-5e99052aee3d",
   "metadata": {},
   "source": [
    "<div style=\"overflow: hidden;\">\n",
    "    <img src=\"images/DREGS_logo_v2.png\" width=\"300\" style=\"float: left; margin-right: 10px;\">\n",
    "</div>\n",
    "\n",
    "# Getting started: Part 2 - Simple queries\n",
    "\n",
    "Here we continue our getting started tutorial, introducing queries.\n",
    "\n",
    "### What we cover in this tutorial\n",
    "\n",
    "In this tutorial we will learn how to:\n",
    "\n",
    "1) Perform a simple query with a single filter\n",
    "2) Perform a simple query with multiple filters\n",
    "3) Query for all datasets tagged with a given keyword\n",
    "\n",
    "### Before we begin\n",
    "\n",
    "If you haven't done so already, check out the [getting setup](https://lsstdesc.org/dataregistry/tutorial_setup.html) page from the documentation if you want to run this tutorial interactively.\n",
    "\n",
    "A quick way to check everything is set up correctly is to run the first cell below, which should load the `dataregistry` package, and print the package version."
   ]
  },
  {
   "cell_type": "code",
   "execution_count": null,
   "id": "7ead9b84-4933-4213-93cb-301d79ef1167",
   "metadata": {
    "tags": []
   },
   "outputs": [],
   "source": [
    "# Come up with a random owner name to avoid clashes\n",
    "from random import randint\n",
    "import os\n",
    "OWNER = \"tutorial_\" + os.environ.get('USER') + '_' + str(randint(0,int(1e6)))\n",
    "\n",
    "import dataregistry\n",
    "print(f\"Working with dataregistry version: {dataregistry.__version__} as random owner {OWNER}\")"
   ]
  },
  {
   "cell_type": "markdown",
   "id": "2140d287-56de-4e94-a12b-959e13e28a9c",
   "metadata": {},
   "source": [
    "> **Note** that running some of the cells below may fail, especially if run multiple times. This will likely be from clashes with the unique constraints within the database (hopefully the error output is informative). In these events either; (1) run the cell above to establish a new database connection with a new random user, or (2) manually change the conflicting database column(s) that are clashing during registration."
   ]
  },
  {
   "cell_type": "markdown",
   "id": "f48aec2e-2b35-49ed-be76-8818d9e79b2c",
   "metadata": {},
   "source": [
    "## 1) Querying the data registry with a single filter\n",
    "\n",
    "Now that we've covered the basics of dataset registration, let's explore how to query entries in the database.  \n",
    "\n",
    "In the previous tutorial, we learned how to connect to the DESC data registry using the `DataRegistry` class. Now, we'll reconnect to the tutorial namespace:"
   ]
  },
  {
   "cell_type": "code",
   "execution_count": null,
   "id": "66a6f3ac-15cc-4706-b230-63681ba3a4b7",
   "metadata": {
    "tags": []
   },
   "outputs": [],
   "source": [
    "from dataregistry import DataRegistry\n",
    "\n",
    "# Connect to the tutorial namespace and set the default owner to `OWNER`\n",
    "datareg = DataRegistry(namespace=\"tutorial\", owner=OWNER)"
   ]
  },
  {
   "cell_type": "markdown",
   "id": "fd1eb855-a3fd-4dd4-8e45-d444c3d1cad6",
   "metadata": {},
   "source": [
    "### Constructing the query \n",
    "\n",
    "Queries are built using one or more Boolean logic **filters**, which correspond to SQL `WHERE` clauses in the underlying code.  \n",
    "\n",
    "For example, to filter for all datasets in the registry with the name `\"nersc_tutorial:my_first_desc_dataset\"`, you would use the following query:  "
   ]
  },
  {
   "cell_type": "code",
   "execution_count": null,
   "id": "f9901d89-b1d7-48c9-8110-ce16ecba3a7e",
   "metadata": {
    "tags": []
   },
   "outputs": [],
   "source": [
    "# Create a filter that queries on the dataset name\n",
    "f = datareg.Query.gen_filter('dataset.name', '==', 'nersc_tutorial:my_first_desc_dataset')"
   ]
  },
  {
   "cell_type": "markdown",
   "id": "305a8df6-6967-4280-a5e8-6ea8831eff09",
   "metadata": {},
   "source": [
    "In a query filter:  \n",
    "- The first argument is the column name being searched.  \n",
    "- The second argument is the logic operator.  \n",
    "- The third argument is the condition to match.  \n",
    "\n",
    "Like in SQL, column names can be referenced:  \n",
    "- Explicitly: Including the table name (e.g., `dataset.name`).  \n",
    "- Implicitly: Without the table name (e.g., `name`).  \n",
    "\n",
    "However, implicit column references are only valid if the column name is **unique across all tables**—which `name` is not. Therefore, we strongly recommend always including the table name in filters.  \n",
    "\n",
    "The following logical operators are supported:  \n",
    "`==`, `!=`, `<`, `<=`, `>`, `>=`  \n",
    "\n",
    "#### Wildcard Queries  \n",
    "\n",
    "A special operator, `~=`, allows for wildcard queries, where `*` serves as the wildcard character. This is useful when:  \n",
    "- You only know part of a dataset name.  \n",
    "- You want to find all datasets following a specific naming pattern.\n",
    "\n",
    "For example"
   ]
  },
  {
   "cell_type": "code",
   "execution_count": null,
   "id": "578951ce-cc30-4ab3-88b4-7bb98b734b9c",
   "metadata": {},
   "outputs": [],
   "source": [
    "# Create a filter that queries on the dataset name with a wildcard\n",
    "f = datareg.Query.gen_filter('dataset.name', '~=', 'nersc_tutorial:*')"
   ]
  },
  {
   "cell_type": "markdown",
   "id": "877e32d9-08b6-4121-8afa-07f3ed8f8524",
   "metadata": {},
   "source": [
    "will return all datasets whose name begins with the pattern `nersc_tutorial:`. The `~=` operator is case insensitive, for case sensitive wildcard searching, one can use the `~==` operator."
   ]
  },
  {
   "cell_type": "markdown",
   "id": "37c23c39-7a78-4931-a281-226a7bfc9333",
   "metadata": {},
   "source": [
    "### Performing the query\n",
    "\n",
    "Now, we can use this filter in a query by passing it to the `Query` extension of the `DataRegistry` class, as shown below:  "
   ]
  },
  {
   "cell_type": "code",
   "execution_count": null,
   "id": "00c6d355-dca0-42a1-ae82-7fdbd1a46afa",
   "metadata": {
    "tags": []
   },
   "outputs": [],
   "source": [
    "# Query the database\n",
    "results = datareg.Query.find_datasets(['dataset.dataset_id', 'dataset.name', 'dataset.relative_path'], [f])"
   ]
  },
  {
   "cell_type": "markdown",
   "id": "8dc05dc6-43e9-4d10-af44-0e4a9353c0b4",
   "metadata": {},
   "source": [
    "The Query function requires:\n",
    "\n",
    "- A list of column names to return (e.g., `dataset.dataset_id`, `dataset.name`, and `dataset.relative_path`).\n",
    "- A list of filter objects to apply to the query (in this case, just `f`).\n",
    "\n",
    "We can look at the results like so:"
   ]
  },
  {
   "cell_type": "code",
   "execution_count": null,
   "id": "0841f472-4ae6-4ca1-810d-6996c58fa14a",
   "metadata": {
    "tags": []
   },
   "outputs": [],
   "source": [
    "print(results)"
   ]
  },
  {
   "cell_type": "markdown",
   "id": "66444995",
   "metadata": {},
   "source": [
    "### Query return formats\n",
    "\n",
    "Two return formats are supported, selected via the optional `return_format` attribute passed to the `find_datasets` function:\n",
    "\n",
    "- `return_format=\"property_dict\"` : a dictionary with keys in the format `<table_name>.<column_name>` (default)\n",
    "- `return_format=\"dataframe\"` : a pandas DataFrame with keys in the format `<table_name>.<column_name>`"
   ]
  },
  {
   "cell_type": "markdown",
   "id": "c48f5445",
   "metadata": {},
   "source": [
    "To get a list of all columns in the database, along with what table they belong to, you can use the `Query.get_all_columns()` function, i.e.,"
   ]
  },
  {
   "cell_type": "code",
   "execution_count": null,
   "id": "54a52029-2908-4056-bc68-4a87f6c3e6df",
   "metadata": {
    "tags": []
   },
   "outputs": [],
   "source": [
    "print(datareg.Query.get_all_columns())"
   ]
  },
  {
   "cell_type": "markdown",
   "id": "84b25f55-eef4-43b6-9c60-8ada92488dd6",
   "metadata": {},
   "source": [
    "## 2) Querying the data registry with multiple filters\n",
    "\n",
    "Queries are not limited to a single filter—we can combine multiple conditions to refine our search.  \n",
    "\n",
    "For example, suppose we want to retrieve all datasets in the registry that:  \n",
    "- Have a specific `owner_type`.  \n",
    "- Were registered after a certain date.  \n",
    "- Return the results as a Pandas DataFrame.  \n",
    "\n",
    "To achieve this, we create two filter objects: "
   ]
  },
  {
   "cell_type": "code",
   "execution_count": null,
   "id": "8eec33d8-2139-473f-ab27-3a04ebd5e7f1",
   "metadata": {
    "tags": []
   },
   "outputs": [],
   "source": [
    "# Create a filter that queries on the owner\n",
    "f = datareg.Query.gen_filter('dataset.owner_type', '==', 'group')\n",
    "\n",
    "# Create a 2nd filter that queries on the entry date\n",
    "f2 = datareg.Query.gen_filter('dataset.creation_date', '>', '01-01-2024')"
   ]
  },
  {
   "cell_type": "markdown",
   "id": "5a241887-2443-4552-a832-d5701d599229",
   "metadata": {},
   "source": [
    "Then we query the database as before:"
   ]
  },
  {
   "cell_type": "code",
   "execution_count": null,
   "id": "d21e982a-5b86-4f75-8b54-7923dec11e04",
   "metadata": {
    "tags": []
   },
   "outputs": [],
   "source": [
    "# Query the database\n",
    "results = datareg.Query.find_datasets(['dataset.dataset_id', 'dataset.name', 'dataset.owner',\n",
    "                                       'dataset.relative_path', 'dataset.creation_date', 'dataset.owner_type'],\n",
    "                                      [f,f2],\n",
    "                                      return_format=\"dataframe\")"
   ]
  },
  {
   "cell_type": "markdown",
   "id": "65c1392e-c9d9-4b3a-9f36-9163bf8edd02",
   "metadata": {},
   "source": [
    "and print the results"
   ]
  },
  {
   "cell_type": "code",
   "execution_count": null,
   "id": "908aa870-c0a4-4e59-a11c-97185e4a3db1",
   "metadata": {
    "tags": []
   },
   "outputs": [],
   "source": [
    "print(results)"
   ]
  },
  {
   "cell_type": "markdown",
   "id": "1db066da-3793-4d1a-8b35-03b28dd9e8e5",
   "metadata": {},
   "source": [
    "More examples for querying can be found in the advanced querying tutorial"
   ]
  },
  {
   "cell_type": "code",
   "execution_count": null,
   "id": "3b27f477-c2f2-4c19-b796-3f6deed0dee2",
   "metadata": {},
   "outputs": [],
   "source": []
  }
 ],
 "metadata": {
  "kernelspec": {
   "display_name": "Python 3 (ipykernel)",
   "language": "python",
   "name": "python3"
  },
  "language_info": {
   "codemirror_mode": {
    "name": "ipython",
    "version": 3
   },
   "file_extension": ".py",
   "mimetype": "text/x-python",
   "name": "python",
   "nbconvert_exporter": "python",
   "pygments_lexer": "ipython3",
   "version": "3.10.12"
  }
 },
 "nbformat": 4,
 "nbformat_minor": 5
}
