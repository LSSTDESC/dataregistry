{
 "cells": [
  {
   "cell_type": "markdown",
   "id": "9337f001-5e7c-4141-a60c-5e99052aee3d",
   "metadata": {},
   "source": [
    "<div style=\"overflow: hidden;\">\n",
    "    <img src=\"images/DREGS_logo_v2.png\" width=\"300\" style=\"float: left; margin-right: 10px;\">\n",
    "</div>\n",
    "\n",
    "# The production schema\n",
    "\n",
    "By default, when we connect to the data registry we connect to the default schema, which is the schema for registering and storing data from active DESC projects. Another primary schema of the data registry is the \"production\" schema. \n",
    "\n",
    "The production schema is for projects that are no longer under active development, and are ready to be archived/distributed to the wider DESC community.\n",
    "\n",
    "Note that **only administrators have write access to the production schema and its shared space**, this tutorial is to cover how the process works, however an administrator will be required to carry out the commands for registering production datasets.\n",
    "\n",
    "All users can query the production schema.\n",
    "\n",
    "### What we cover in this tutorial\n",
    "\n",
    "In this tutorial we will learn how to:\n",
    "\n",
    "- Connect to the production schema and register a new dataset (admin only)\n",
    "- Query the production schema\n",
    "- Transfer a dataset from another schema to the production schema (admin only)\n",
    "\n",
    "### Before we begin\n",
    "\n",
    "If you haven't done so already, check out the [getting setup](https://lsstdesc.org/dataregistry/tutorial_setup.html) page from the documentation if you want to run this tutorial interactively.\n",
    "\n",
    "A quick way to check everything is set up correctly is to run the first cell below, which should load the `dataregistry` package, and print the package version."
   ]
  },
  {
   "cell_type": "code",
   "execution_count": null,
   "id": "7ead9b84-4933-4213-93cb-301d79ef1167",
   "metadata": {
    "tags": []
   },
   "outputs": [],
   "source": [
    "import dataregistry\n",
    "print(\"Working with dataregistry version:\", dataregistry.__version__)"
   ]
  },
  {
   "cell_type": "markdown",
   "id": "f48aec2e-2b35-49ed-be76-8818d9e79b2c",
   "metadata": {},
   "source": [
    "## Registering a new production dataset\n",
    "\n",
    "The production schema is essentially identical in its layout to the default schema. Therefore working with it is no different from working with the default schema, which we covered in the getting started tutorials.\n",
    "\n",
    "To register a new dataset into the production schema"
   ]
  },
  {
   "cell_type": "code",
   "execution_count": null,
   "id": "66a6f3ac-15cc-4706-b230-63681ba3a4b7",
   "metadata": {
    "tags": []
   },
   "outputs": [],
   "source": [
    "from dataregistry import DataRegistry\n",
    "\n",
    "# Establish connection to the production schema\n",
    "datareg = DataRegistry(schema=\"production\", owner=\"DESC CO group\", owner_type=\"production\")"
   ]
  },
  {
   "cell_type": "markdown",
   "id": "6f7423fb-32d0-4a33-8e87-cd75e952512f",
   "metadata": {},
   "source": [
    "Here we have connected to the data registry production schema (`schema=\"production\"`). Notice we have assigned a universal owner (`owner=\"DESC CO group\"`) and owner type (`owner_type=\"production\"`) to save some time when registering the datasets during this instance.\n",
    "\n",
    "Note for the production schema no value other than `production` will be allowed for `owner_type` (the inverse is also true for any schema other than production)."
   ]
  },
  {
   "cell_type": "code",
   "execution_count": null,
   "id": "7aaa5a7f-ccb1-47d3-9e9b-b62ad32287d7",
   "metadata": {
    "tags": []
   },
   "outputs": [],
   "source": [
    "# Add new entry.\n",
    "datareg.Registrar.dataset.register(\n",
    "    \"nersc_production_tutorial/my_desc_production_dataset\",\n",
    "    \"1.0.0\",\n",
    "    description=\"An production output from some DESC code\",\n",
    "    old_location=\"dummy_production_dataset.txt\",\n",
    ")"
   ]
  },
  {
   "cell_type": "markdown",
   "id": "c3ed3ffb-02f2-42ec-b2c0-643c51f8a295",
   "metadata": {
    "tags": []
   },
   "source": [
    "This would register a new dataset in the production schema, identical to the default schema.\n",
    "\n",
    "To recap about production datasets:\n",
    "- Only administrators have write access to the production schema and shared space\n",
    "- All datasets in the production schema have `owner_type=\"production\"`\n",
    "- Production datasets can never be overwritten, even if `is_overwritable=True`"
   ]
  },
  {
   "cell_type": "markdown",
   "id": "3b6b7862-fd31-43e6-9a50-572b5cd6fff5",
   "metadata": {},
   "source": [
    "## Querying the production schema\n",
    "\n",
    "Whilst only administrators have write access to the production schema, it is open for everyone to query.\n",
    "\n",
    "Querying the production schema is no different from querying the default schema (just make sure you connect to the production schema when initiating the `DataRegistry` object).\n",
    "\n",
    "For example, to query for the dataset we just registered we would do:"
   ]
  },
  {
   "cell_type": "code",
   "execution_count": null,
   "id": "f9901d89-b1d7-48c9-8110-ce16ecba3a7e",
   "metadata": {
    "tags": []
   },
   "outputs": [],
   "source": [
    "# Create a filter that queries on the dataset name\n",
    "f = datareg.Query.gen_filter('dataset.name', '==', 'my_desc_production_dataset')"
   ]
  },
  {
   "cell_type": "markdown",
   "id": "7a5fb135-7f8a-417e-8527-e1ca9b9a3c24",
   "metadata": {},
   "source": [
    "Note that when using the command line interface to query datasets, e.g., `dregs ls`, both the default schema you are connected to and the production schema are both searched."
   ]
  },
  {
   "cell_type": "markdown",
   "id": "db6a2ac8-80ad-4038-a722-de9de8fbe433",
   "metadata": {},
   "source": [
    "## Transferring datasets to the production schema\n",
    "\n",
    "TBD"
   ]
  },
  {
   "cell_type": "code",
   "execution_count": null,
   "id": "cb87beb4-937c-498c-b1f2-de32cab29b17",
   "metadata": {},
   "outputs": [],
   "source": []
  }
 ],
 "metadata": {
  "kernelspec": {
   "display_name": "Python 3 (ipykernel)",
   "language": "python",
   "name": "python3"
  },
  "language_info": {
   "codemirror_mode": {
    "name": "ipython",
    "version": 3
   },
   "file_extension": ".py",
   "mimetype": "text/x-python",
   "name": "python",
   "nbconvert_exporter": "python",
   "pygments_lexer": "ipython3",
   "version": "3.11.5"
  }
 },
 "nbformat": 4,
 "nbformat_minor": 5
}
