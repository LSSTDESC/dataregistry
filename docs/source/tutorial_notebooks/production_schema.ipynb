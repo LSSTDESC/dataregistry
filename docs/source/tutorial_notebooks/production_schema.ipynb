{
 "cells": [
  {
   "cell_type": "markdown",
   "id": "9337f001-5e7c-4141-a60c-5e99052aee3d",
   "metadata": {},
   "source": [
    "<div style=\"overflow: hidden;\">\n",
    "    <img src=\"images/DREGS_logo_v2.png\" width=\"300\" style=\"float: left; margin-right: 10px;\">\n",
    "</div>\n",
    "\n",
    "# The production schema\n",
    "\n",
    "By default, when we connect to the data registry we connect to the default schema, which is the schema for registering and storing data from active DESC projects. Another primary schema of the data registry is the \"production\" schema. \n",
    "\n",
    "The production schema is for projects that are no longer under active development, and are ready to be archived/distributed to the wider DESC community.\n",
    "\n",
    "Note that **only administrators have write access to the production schema and its shared space**, this tutorial is to cover how the process works, however an administrator will be required to carry out the commands for registering production datasets.\n",
    "\n",
    "All users can query the production schema.\n",
    "\n",
    "### What we cover in this tutorial\n",
    "\n",
    "In this tutorial we will learn how to:\n",
    "\n",
    "- Connect to the production schema and register a new dataset (admin only)\n",
    "- Query the production schema\n",
    "\n",
    "### Before we begin\n",
    "\n",
    "If you haven't done so already, check out the [getting setup](https://lsstdesc.org/dataregistry/tutorial_setup.html) page from the documentation if you want to run this tutorial interactively.\n",
    "\n",
    "A quick way to check everything is set up correctly is to run the first cell below, which should load the `dataregistry` package, and print the package version."
   ]
  },
  {
   "cell_type": "code",
   "execution_count": null,
   "id": "7ead9b84-4933-4213-93cb-301d79ef1167",
   "metadata": {
    "tags": []
   },
   "outputs": [],
   "source": [
    "# Come up with a random owner name to avoid clashes\n",
    "from random import randint\n",
    "import os\n",
    "OWNER = \"tutorial_\" + os.environ.get('USER') + '_' + str(randint(0,int(1e6)))\n",
    "\n",
    "import dataregistry\n",
    "print(f\"Working with dataregistry version: {dataregistry.__version__} as random owner {OWNER}\")"
   ]
  },
  {
   "cell_type": "markdown",
   "id": "782179b4-4349-4199-b3a3-38d4845188a9",
   "metadata": {},
   "source": [
    "**Note** that running some of the cells below may fail, especially if run multiple times. This will likely be from clashes with the unique constraints within the database (hopefully the error output is informative). In these events either; (1) run the cell above to establish a new database connection with a new random user, or (2) manually change the conflicting database column(s) that are clashing during registration."
   ]
  },
  {
   "cell_type": "markdown",
   "id": "f48aec2e-2b35-49ed-be76-8818d9e79b2c",
   "metadata": {},
   "source": [
    "## Registering a new production dataset\n",
    "\n",
    "The production schema is essentially identical in its layout to the default schema. Therefore working with it is no different from working with the default schema, which we covered in the getting started tutorials.\n",
    "\n",
    "To register a new dataset into the production schema"
   ]
  },
  {
   "cell_type": "code",
   "execution_count": null,
   "id": "66a6f3ac-15cc-4706-b230-63681ba3a4b7",
   "metadata": {
    "tags": []
   },
   "outputs": [],
   "source": [
    "from dataregistry import DataRegistry\n",
    "\n",
    "# Establish connection to the production schema\n",
    "datareg = DataRegistry(schema=\"tutorial_production\", owner=\"production\", owner_type=\"production\")"
   ]
  },
  {
   "cell_type": "markdown",
   "id": "6f7423fb-32d0-4a33-8e87-cd75e952512f",
   "metadata": {},
   "source": [
    "Here we have connected to the data registry tutorial production schema (`schema=\"tutorial_production\"`). We have assigned the universal `owner` and `owner_type` to be \"production\", which is the only values allowed for the production schema."
   ]
  },
  {
   "cell_type": "code",
   "execution_count": null,
   "id": "7aaa5a7f-ccb1-47d3-9e9b-b62ad32287d7",
   "metadata": {
    "tags": []
   },
   "outputs": [],
   "source": [
    "# Add new entry.\n",
    "dataset_id, execution_id = datareg.Registrar.dataset.register(\n",
    "    f\"nersc_production_tutorial:my_desc_production_dataset_{OWNER}\",\n",
    "    \"1.0.0\",\n",
    "    description=\"An production output from some DESC code\",\n",
    "    location_type=\"dummy\"\n",
    ")\n",
    "\n",
    "print(f\"Created dataset {dataset_id}, associated with execution {execution_id}\")"
   ]
  },
  {
   "cell_type": "markdown",
   "id": "c3ed3ffb-02f2-42ec-b2c0-643c51f8a295",
   "metadata": {
    "tags": []
   },
   "source": [
    "This would register a new dataset in the production schema, identical to the default schema.\n",
    "\n",
    "To recap about production datasets:\n",
    "- Only administrators have write access to the production schema and shared space\n",
    "- All datasets in the production schema have `owner=\"production\"` and `owner_type=\"production\"`\n",
    "- Production datasets can never be overwritten, even if `is_overwritable=True`"
   ]
  },
  {
   "cell_type": "markdown",
   "id": "3b6b7862-fd31-43e6-9a50-572b5cd6fff5",
   "metadata": {},
   "source": [
    "## Querying the production schema\n",
    "\n",
    "Whilst only administrators have write access to the production schema, it is open for everyone to query.\n",
    "\n",
    "Querying the production schema is no different from querying the default schema (just make sure you connect to the production schema when initiating the `DataRegistry` object).\n",
    "\n",
    "For example, to query for the dataset we just registered we would do:"
   ]
  },
  {
   "cell_type": "code",
   "execution_count": null,
   "id": "f9901d89-b1d7-48c9-8110-ce16ecba3a7e",
   "metadata": {
    "tags": []
   },
   "outputs": [],
   "source": [
    "# Create a filter that queries on the owner\n",
    "f = datareg.Query.gen_filter('dataset.owner', '==', 'production')\n",
    "\n",
    "# Query the database\n",
    "results = datareg.Query.find_datasets(['dataset.dataset_id', 'dataset.name', 'dataset.owner',\n",
    "                                       'dataset.relative_path', 'dataset.creation_date'],\n",
    "                                      [f],\n",
    "                                      return_format=\"dataframe\")\n",
    "\n",
    "print(results)"
   ]
  },
  {
   "cell_type": "markdown",
   "id": "7a5fb135-7f8a-417e-8527-e1ca9b9a3c24",
   "metadata": {},
   "source": [
    "Note that when using the command line interface to query datasets, e.g., `dregs ls`, both the default schema you are connected to and the production schema are both searched."
   ]
  }
 ],
 "metadata": {
  "kernelspec": {
   "display_name": "DREGS-env",
   "language": "python",
   "name": "venv"
  },
  "language_info": {
   "codemirror_mode": {
    "name": "ipython",
    "version": 3
   },
   "file_extension": ".py",
   "mimetype": "text/x-python",
   "name": "python",
   "nbconvert_exporter": "python",
   "pygments_lexer": "ipython3",
   "version": "3.9.18"
  }
 },
 "nbformat": 4,
 "nbformat_minor": 5
}
