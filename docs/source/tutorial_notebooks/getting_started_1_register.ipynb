{
 "cells": [
  {
   "cell_type": "markdown",
   "id": "9337f001-5e7c-4141-a60c-5e99052aee3d",
   "metadata": {},
   "source": [
    "<div style=\"overflow: hidden;\">\n",
    "    <img src=\"images/DREGS_logo_v2.png\" width=\"300\" style=\"float: left; margin-right: 10px;\">\n",
    "</div>\n",
    "\n",
    "# Getting started: Part 1 - Registering datasets\n",
    "\n",
    "The *DESC data registry* is a means of storing and keeping track of DESC related datasets, i,e., where they are, when they were produced and what precursor datasets they depend on.\n",
    "\n",
    "This is a quick tutorial to get your started using the `dataregistry` at NERSC, both for entering your own datasets into the registry, and for finding out what datasets already exist through queries.\n",
    "\n",
    "### What we cover in this tutorial\n",
    "\n",
    "In this tutorial we will learn how to:\n",
    "\n",
    "1) Connect to the DESC data registry using the `DataRegistry` class\n",
    "2) Register a dataset\n",
    "3) Update a registered dataset with a new version\n",
    "4) Replace a dataset\n",
    "5) Modify a previously registered dataset with updated metadata\n",
    "6) Delete a dataset\n",
    "\n",
    "### Before we begin\n",
    "\n",
    "If you haven't done so already, check out the [getting setup](https://lsstdesc.org/dataregistry/tutorial_setup.html) page from the documentation if you want to run this tutorial interactively.\n",
    "\n",
    "A quick way to check everything is set up correctly is to run the first cell below, which should load the `dataregistry` package, and print the package version."
   ]
  },
  {
   "cell_type": "code",
   "execution_count": null,
   "id": "7ead9b84-4933-4213-93cb-301d79ef1167",
   "metadata": {
    "tags": []
   },
   "outputs": [],
   "source": [
    "# Come up with a random owner name to avoid clashes\n",
    "from random import randint\n",
    "import os\n",
    "OWNER = \"tutorial_\" + os.environ.get('USER') + '_' + str(randint(0,int(1e6)))\n",
    "\n",
    "import dataregistry\n",
    "print(f\"Working with dataregistry version: {dataregistry.__version__} as random owner {OWNER}\")"
   ]
  },
  {
   "cell_type": "markdown",
   "id": "d53aab85-bedf-47f6-a804-34a29e72631f",
   "metadata": {},
   "source": [
    "> **Note** that running some of the cells below may fail, especially if run multiple times. This will likely be from clashes with the unique constraints within the database (hopefully the error output is informative). In these events either; (1) run the cell above to establish a new database connection with a new random user, or (2) manually change the conflicting database column(s) that are clashing during registration."
   ]
  },
  {
   "cell_type": "markdown",
   "id": "f48aec2e-2b35-49ed-be76-8818d9e79b2c",
   "metadata": {},
   "source": [
    "## 1) The DataRegistry class\n",
    "\n",
    "The top-level `DataRegistry` class provides a quick and easy-to-use interface to `dataregistry` functionality.\n",
    "\n",
    "In many cases, in particular when you only need query functionality, or when you're working on your own at NERSC, a simple call with no additional arguments is adequate, e.g.,\n",
    "\n",
    "```python\n",
    "from dataregistry import DataRegistry\n",
    "\n",
    "# Create connection object\n",
    "datareg = DataRegistry()\n",
    "```\n",
    "\n",
    "By default, initializing the `DataRegistry` class without arguments will:  \n",
    "\n",
    "- Attempt to establish a connection to the registry database using credentials from your `~/.config_reg_access` and `~/.pgpass` files.  \n",
    "- Connect to the default LSST DESC namespace.  \n",
    "- Set the default `root_dir` to the NERSC `site`.  \n",
    "\n",
    "The root directory (`root_dir`) serves as the base path where all ingested data will be stored. Outside of testing, this should typically point to the NERSC `site` location.  \n",
    "\n",
    "> **Note:** The code snippet above is in a markdown cell and is not meant to be executed. Instead, we will run the modified code below to connect to the tutorial namespace.\n",
    "\n",
    "For more details on alternative ways to connect to the registry using the `DataRegistry` object, refer to the **Advanced Tutorial** section.\n",
    "\n",
    "### Connecting to the Tutorial Namespace  \n",
    "\n",
    "In these tutorials, we will connect to the tutorial namespace to avoid modifying the default LSST DESC namespace with test entries. If you're practicing with `dataregistry` outside of these notebooks, you are welcome to use the tutorial schemas for your own entries.  \n",
    "\n",
    "Within these notebooks, the `reg_reader` account has write access to the tutorial schema for testing purposes. However, only the `reg_writer` account has permission to write to the LSST DESC namespace.  \n",
    "\n",
    "For more details on permissions and dataset management, refer to the **Advanced Tutorial on Datasets**.\n",
    "\n",
    "Lets start by connecting to the tutorial namespace:"
   ]
  },
  {
   "cell_type": "code",
   "execution_count": null,
   "id": "3f994c54-1dec-4bcc-b773-3092f0ba40aa",
   "metadata": {
    "tags": []
   },
   "outputs": [],
   "source": [
    "from dataregistry import DataRegistry\n",
    "\n",
    "# Connect to the tutorial namespace and set the default owner to `OWNER`\n",
    "datareg = DataRegistry(namespace=\"tutorial\", owner=OWNER)"
   ]
  },
  {
   "cell_type": "markdown",
   "id": "2d723a37-4101-496c-b385-0a2644aa7ad8",
   "metadata": {
    "tags": []
   },
   "source": [
    "## 2) Registering new datasets with the `DataRegistry` class\n",
    "\n",
    "First a bit of setup, creating some temporary files to serve as dummy data for this tutorial."
   ]
  },
  {
   "cell_type": "code",
   "execution_count": null,
   "id": "1acefa8f-3606-4ad2-89bd-c4ced03c3121",
   "metadata": {},
   "outputs": [],
   "source": [
    "import tempfile\n",
    "\n",
    "# Create three temporary text files with example data\n",
    "temp_files = [tempfile.NamedTemporaryFile(delete=False, mode='wb') for i in range(3)]\n",
    "\n",
    "for i, temp_file in enumerate(temp_files):\n",
    "    temp_file.write(f\"This is some temporary data, number {i}\".encode())\n",
    "    temp_file.close()"
   ]
  },
  {
   "cell_type": "markdown",
   "id": "b0c4865f-b8b8-4caf-8e0f-1166d6bcd3c1",
   "metadata": {},
   "source": [
    "To register a dataset, we use the `Registrar` extension of the `DataRegistry` class. Here, we'll register one of the temporary files we just created into the registry."
   ]
  },
  {
   "cell_type": "code",
   "execution_count": null,
   "id": "7aaa5a7f-ccb1-47d3-9e9b-b62ad32287d7",
   "metadata": {
    "tags": []
   },
   "outputs": [],
   "source": [
    "# Add new entry.\n",
    "dataset_id, execution_id = datareg.Registrar.dataset.register(\n",
    "    \"nersc_tutorial:my_first_desc_dataset\",           # `name`\n",
    "    \"1.0.0\",                                          # `version`\n",
    "    description=\"An output from some DESC code\",\n",
    "    owner_type=\"group\",\n",
    "    is_overwritable=True,\n",
    "    old_location=temp_files[0].name\n",
    ")\n",
    "\n",
    "# This is the unique identifier assigned to the dataset from the registry\n",
    "print(f\"Dataset {dataset_id} created\")\n",
    "\n",
    "# This is the id of the execution the dataset belongs to (see advanced registering tutorial)\n",
    "print(f\"Dataset assigned to execution {execution_id}\")"
   ]
  },
  {
   "cell_type": "markdown",
   "id": "c3ed3ffb-02f2-42ec-b2c0-643c51f8a295",
   "metadata": {
    "tags": []
   },
   "source": [
    "The code above registers a new dataset. Here are some key details:  \n",
    "\n",
    "### Dataset Name (Mandatory)  \n",
    "\n",
    "The first required argument for the `register()` function is the dataset `name`, which in our example is `nersc_tutorial:my_first_desc_dataset`.  \n",
    "- This name is primarily for human readability and can be any valid string.  \n",
    "- However, special characters (`&*/\\?$`) and spaces **are not allowed**.  \n",
    "- The combination of `name`, `version`, `owner`, and `owner_type` must be **unique** in the database.  \n",
    "\n",
    "A well-chosen `name` makes it easy to retrieve the dataset for queries and updates.  \n",
    "\n",
    "### Version String (Mandatory)  \n",
    "\n",
    "The second required parameter is the version string, which follows semantic versioning:  \n",
    "- Format: `MAJOR.MINOR.PATCH` (e.g., `1.0.0`).  \n",
    "\n",
    "### Owner and Owner Type  \n",
    "\n",
    "Each dataset is registered under an owner, which should be an informative string.  \n",
    "- If no `owner` is specified, and no global `owner` was set when the `DataRegistry` instance was created, the default is `$USER`.  \n",
    "\n",
    "Datasets are further classified by `owner_type`, which can be: `user` (default), `group`, `project` or `production`.\n",
    "\n",
    "### Overwriting Datasets  \n",
    "\n",
    "By default, datasets **cannot** be overwritten once registered.  \n",
    "- To allow overwriting, set `is_overwritable=True` when registering the dataset.  \n",
    "- If a dataset was previously registered with `is_overwritable=True`, it can be replaced (see *Replacing a Dataset* below).  \n",
    "\n",
    "### Copying the Data  \n",
    "\n",
    "Registering a dataset performs two actions:  \n",
    "1. Creates an entry in the DESC data registry database with metadata.  \n",
    "2. (Optionally) Copies the dataset contents from `old_location` to the `root_dir`. This is optional because the data may already be on location (see advanced registering tutorial for these cases).\n",
    "\n",
    "In our example, we registered a dummy text file, but any file or directory can be ingested (directories are copied recursively).  \n",
    "\n",
    "> **Note:** The data registry does not support symbolic links (symlinks) for dataset registration.  \n",
    "\n",
    "### Extra Options  \n",
    "\n",
    "Any parameters not explicitly specified in `Registrar.dataset.register()` revert to their default values. For a full list of available options, refer to the documentation: [Data Registry API Reference](http://lsstdesc.org/dataregistry/reference_python.html#the-dregs-class).  \n",
    "\n",
    "> **Tip:** Be as precise as possible when creating entries in the data registry to ensure clarity and consistency.  \n"
   ]
  },
  {
   "cell_type": "markdown",
   "id": "3b6b7862-fd31-43e6-9a50-572b5cd6fff5",
   "metadata": {},
   "source": [
    "## 3) Updating a Previously Registered Dataset with a Newer Version  \n",
    "\n",
    "If you have a dataset already registered in the data registry, but the dataset has now been updated, registering the new version is straightforward.  \n",
    "\n",
    "To update a dataset, register it again using the same dataset `name` but with a new `version`. There are two ways to update the version:  \n",
    "1. **Manually** enter a new version string.  \n",
    "2. **Automatically increment** the version using the data registry’s built-in versioning system. You can choose to bump one of the following:  \n",
    "   - `\"major\"` (e.g., `1.0.0 → 2.0.0`)  \n",
    "   - `\"minor\"` (e.g., `1.0.0 → 1.1.0`)  \n",
    "   - `\"patch\"` (e.g., `1.0.0 → 1.0.1`)  \n",
    "\n",
    "For example, let's register an updated version of our dataset, increasing the minor version (`1.0.0 → 1.1.0`).  \n",
    "\n",
    "> **Note:** Both versions (`1.0.0` and `1.1.0`) will remain stored within `root_dir`, sharing the same dataset name but existing as separate database entries.  \n"
   ]
  },
  {
   "cell_type": "code",
   "execution_count": null,
   "id": "2a65d3c0-41c1-4720-85be-10d68cef84f9",
   "metadata": {
    "tags": []
   },
   "outputs": [],
   "source": [
    "# Add new entry for an updated dataset with an updated version.\n",
    "updated_dataset_id, updated_execution_id = datareg.Registrar.dataset.register(\n",
    "    \"nersc_tutorial:my_first_desc_dataset\",\n",
    "    \"minor\", # Automatically bumps to \"1.1.0\"\n",
    "    description=\"An output from some DESC code (updated)\",\n",
    "    owner_type=\"group\",\n",
    "    is_overwritable=True,\n",
    "    old_location=temp_files[1].name,\n",
    ")\n",
    "\n",
    "# This is the unique identifier assigned to the updated dataset from the registry\n",
    "print(f\"Dataset {updated_dataset_id} created\")\n",
    "\n",
    "# This is the id of the execution the updated dataset belongs to (see next tutorial)\n",
    "print(f\"Dataset assigned to execution {updated_execution_id}\")"
   ]
  },
  {
   "cell_type": "markdown",
   "id": "053b1348-fe1b-4426-b6ee-54b9d0d1c48d",
   "metadata": {},
   "source": [
    "## 4) Replacing a Dataset  \n",
    "\n",
    "Instead of updating a dataset to a new version (where each version is retained in the registry), you can replace an existing dataset using the `replace()` method of the `Registrar` class.  \n",
    "\n",
    "Replacing a dataset is similar to registering a new entry, with one key difference:  `replace()` first deletes any previous data files associated with the dataset. It then registers a new entry, keeping the same: `name`, `version`, `owner`, `owner_type` and `relative_path` (dataset location in `root_dir`, see the advanced registering tutorial for details).  \n",
    "\n",
    "> **Important:** The dataset being replaced must have been registered with `is_overwritable=True`.  \n",
    "\n",
    "While the actual data files are overwritten, previous database entries are never lost:  \n",
    "- A new unique entry is created each time a dataset is replaced.  \n",
    "- The original entry is marked with a `replaced` status.  \n",
    "- The `replace_id` column links the old dataset to the new one that replaced it.  \n",
    "\n",
    "To replace the first entry we made, we register new data under the same `name`, `version`, `owner`, and `owner_type`. This ensures the correct dataset is located and replaced.  "
   ]
  },
  {
   "cell_type": "code",
   "execution_count": null,
   "id": "8aa09c52-8283-4f91-bb62-490e65acbb4d",
   "metadata": {
    "tags": []
   },
   "outputs": [],
   "source": [
    "# Add new entry, overwriting the data in the `root_dir`.\n",
    "updated_dataset_id, updated_execution_id = datareg.Registrar.dataset.replace(\n",
    "    \"nersc_tutorial:my_first_desc_dataset\",\n",
    "    \"1.0.0\",                                          \n",
    "    description=\"An output from some DESC code (further updated)\",\n",
    "    owner_type=\"group\",\n",
    "    is_overwritable=True,\n",
    "    old_location=temp_files[2].name,\n",
    ")\n",
    "\n",
    "# This is the unique identifier assigned to the replaced dataset from the registry\n",
    "print(f\"Dataset {updated_dataset_id} created\")\n",
    "\n",
    "# This is the id of the execution the replaced dataset belongs to (see next tutorial)\n",
    "print(f\"Dataset assigned to execution {updated_execution_id}\")"
   ]
  },
  {
   "cell_type": "markdown",
   "id": "19afb001-d82f-448e-b40d-e4249e534286",
   "metadata": {},
   "source": [
    "### Restrictions on Dataset Replacement  \n",
    "\n",
    "Only the following datasets can be replaced:  \n",
    "- Valid datasets registered with `is_overwritable=True`.  \n",
    "- Invalid datasets (datasets that failed to register due to copying errors or interruptions).  \n",
    "\n",
    "> **Note:** Deleted or archived datasets **cannot** be replaced. See the advanced registering tutorial for more details on dataset `status`.  "
   ]
  },
  {
   "cell_type": "markdown",
   "id": "1cc01c4e-8404-4fb4-b082-8969546f3ffc",
   "metadata": {},
   "source": [
    "## 5) Modifying the metadata of a previously registered dataset\n",
    "\n",
    "After a dataset has been registered in the `dataregistry`, certain metadata columns can still be modified.  \n",
    "\n",
    "We can check and see what metadata columns we are allowed to modify by running"
   ]
  },
  {
   "cell_type": "code",
   "execution_count": null,
   "id": "4252ce7e-7dea-4404-ae61-19b8ca0be2fd",
   "metadata": {
    "tags": []
   },
   "outputs": [],
   "source": [
    "# What columns in the dataset table are modifiable?\n",
    "print(datareg.Registrar.dataset.get_modifiable_columns())"
   ]
  },
  {
   "cell_type": "markdown",
   "id": "4ddf3078-91e8-4f4e-beaf-bd0d065c912a",
   "metadata": {},
   "source": [
    "To modify the metadata of a dataset entry, use the `.modify()` function for the appropriate table (in or example the `dataset` table). \n",
    "\n",
    "This function requires:\n",
    "\n",
    "1) The unique entry ID of the dataset you wish to modify.\n",
    "2) A key-value pair dictionary containing the metadata changes.\n",
    "\n",
    "For instance, if we want to update the description column of our first dataset entry, we would use the following code:"
   ]
  },
  {
   "cell_type": "code",
   "execution_count": null,
   "id": "5f20548e-148b-44af-a22a-b1e259d5e994",
   "metadata": {
    "tags": []
   },
   "outputs": [],
   "source": [
    "# A key-value dict of the columns we want to update, with their new values\n",
    "update_dict = {\"description\": \"My new updated description\"}\n",
    "\n",
    "datareg.Registrar.dataset.modify(dataset_id, update_dict)"
   ]
  },
  {
   "cell_type": "markdown",
   "id": "66cbe713-b6d0-4db7-ba67-20775087f784",
   "metadata": {},
   "source": [
    "## 6) Deleting a dataset in the dataregistry\n",
    "\n",
    "To delete a dataset entry from the data registry, use the `.delete()` function, which requires four arguments: `name`, `version_string`, `owner` and `owner_type`.\n",
    "\n",
    "For example"
   ]
  },
  {
   "cell_type": "code",
   "execution_count": null,
   "id": "becbc567-e7a0-479d-8a1d-4a315d781bd3",
   "metadata": {
    "tags": []
   },
   "outputs": [],
   "source": [
    "# Delete a dataset\n",
    "datareg.Registrar.dataset.delete(\"nersc_tutorial:my_first_desc_dataset\", \"1.0.0\", OWNER, \"group\")"
   ]
  },
  {
   "cell_type": "markdown",
   "id": "594c3b1a-8491-4f6e-b47b-97de00cccd9b",
   "metadata": {},
   "source": [
    "Important Notes:\n",
    "- The files and directories associated with the dataset in the `root_dir` will be removed.\n",
    "- However, the registry database entry will remain, with its `status` updated to indicate that the dataset has been deleted."
   ]
  },
  {
   "cell_type": "code",
   "execution_count": null,
   "id": "22328726-eecc-437b-b3ee-46aba7c06ca2",
   "metadata": {},
   "outputs": [],
   "source": []
  }
 ],
 "metadata": {
  "kernelspec": {
   "display_name": "Python 3 (ipykernel)",
   "language": "python",
   "name": "python3"
  },
  "language_info": {
   "codemirror_mode": {
    "name": "ipython",
    "version": 3
   },
   "file_extension": ".py",
   "mimetype": "text/x-python",
   "name": "python",
   "nbconvert_exporter": "python",
   "pygments_lexer": "ipython3",
   "version": "3.10.12"
  }
 },
 "nbformat": 4,
 "nbformat_minor": 5
}
